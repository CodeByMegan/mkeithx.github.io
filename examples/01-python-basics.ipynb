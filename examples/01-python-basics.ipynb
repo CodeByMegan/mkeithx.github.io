{
 "cells": [
  {
   "cell_type": "code",
   "execution_count": 1,
   "metadata": {},
   "outputs": [
    {
     "name": "stdout",
     "output_type": "stream",
     "text": [
      "Hello, world!\n"
     ]
    }
   ],
   "source": [
    "msg = \"Hello, world!\"\n",
    "print(msg)"
   ]
  },
  {
   "cell_type": "markdown",
   "metadata": {},
   "source": [
    "## Fibonacci sequence generator"
   ]
  },
  {
   "cell_type": "code",
   "execution_count": 2,
   "metadata": {},
   "outputs": [
    {
     "name": "stdout",
     "output_type": "stream",
     "text": [
      "------------------------------------------------\n",
      "          Fibonacci Sequence Generator\n",
      "     (To exit, enter 'exit' or press Ctrl-C)            \n",
      "------------------------------------------------\n",
      "\n",
      "0, 1, 1, 2, 3, 5, 8, 13, 21, 34, 55, 89\n",
      "\n",
      "0, 1, 1, 2, 3, 5, 8, 13, 21, 34, 55, 89, 144\n",
      "\n"
     ]
    }
   ],
   "source": [
    "import os\n",
    "\n",
    "class Fibonacci:\n",
    "    def __init__(self) -> None:\n",
    "        self.sequence = [0, 1]\n",
    "\n",
    "    def get(self, index: int):\n",
    "        \"\"\"\n",
    "        Get Fibonacci sequence up to the specified index.\n",
    "\n",
    "        >>> Fibonacci().get(10)\n",
    "        [0, 1, 1, 2, 3, 5, 8, 13, 21, 34]\n",
    "        >>> Fibonacci().get(5)\n",
    "        [0, 1, 1, 2, 3]\n",
    "        \"\"\"\n",
    "        difference = index - len(self.sequence) + 2\n",
    "        if difference > 0:\n",
    "            self.sequence.extend(self.sequence[-1] + self.sequence[-2] for _ in range(difference))\n",
    "        return self.sequence[:index]\n",
    "\n",
    "def clear_console():\n",
    "    os.system('cls' if os.name == 'nt' else 'clear')\n",
    "\n",
    "def main():\n",
    "    clear_console()\n",
    "    app_name = \"Fibonacci Sequence Generator\"\n",
    "    msg = \"(To exit, enter 'exit' or press Ctrl-C)\"\n",
    "    print(f'{\"-\" * 48}\\n{\" \" * 10}{app_name}\\n{\" \" * 5}{msg}{\" \" * 12}\\n{\"-\" * 48}')\n",
    "\n",
    "    fibonacci = Fibonacci()\n",
    "\n",
    "    while True:\n",
    "        print()\n",
    "        prompt = input(\">> \").lower()\n",
    "\n",
    "        if prompt in {\"exit\", \"quit\"}:\n",
    "            break\n",
    "\n",
    "        try:\n",
    "            index = int(prompt)\n",
    "        except ValueError:\n",
    "            print(\"Enter a number or 'exit'\")\n",
    "            continue\n",
    "\n",
    "        print(*fibonacci.get(index), sep=', ')\n",
    "\n",
    "if __name__ == \"__main__\":\n",
    "    main()\n"
   ]
  },
  {
   "cell_type": "markdown",
   "metadata": {},
   "source": [
    "## BMI Calculator"
   ]
  },
  {
   "cell_type": "code",
   "execution_count": 3,
   "metadata": {},
   "outputs": [
    {
     "name": "stdout",
     "output_type": "stream",
     "text": [
      "----------------------------------------\n",
      "        BMI Calculator        \n",
      "----------------------------------------\n",
      "\n",
      "Your BODY MASS INDEX is 26.73 and classified as OVERWEIGHT.\n",
      "\n",
      "Thank you and have a great day.\n",
      "\n"
     ]
    },
    {
     "ename": "SystemExit",
     "evalue": "",
     "output_type": "error",
     "traceback": [
      "An exception has occurred, use %tb to see the full traceback.\n",
      "\u001b[1;31mSystemExit\u001b[0m\n"
     ]
    },
    {
     "name": "stderr",
     "output_type": "stream",
     "text": [
      "c:\\Users\\superuser\\anaconda3\\envs\\myenv\\Lib\\site-packages\\IPython\\core\\interactiveshell.py:3561: UserWarning: To exit: use 'exit', 'quit', or Ctrl-D.\n",
      "  warn(\"To exit: use 'exit', 'quit', or Ctrl-D.\", stacklevel=1)\n"
     ]
    }
   ],
   "source": [
    "import os\n",
    "import sys\n",
    "\n",
    "def get_float_input(prompt):\n",
    "    while True:\n",
    "        try:\n",
    "            value = float(input(prompt))\n",
    "            return value\n",
    "        except ValueError:\n",
    "            print('Invalid input. Please enter a valid number.\\n')\n",
    "\n",
    "def calculate_bmi():\n",
    "    height = get_float_input('Your height in meters (ex. 1.73): ')\n",
    "    weight = get_float_input('Your weight in kilograms (ex. 75): ')\n",
    "\n",
    "    bmi = weight / (height ** 2)\n",
    "    bmi = round(bmi, 2)\n",
    "\n",
    "    normal_bmi_range = 'Normal BMI is from 18.50 to 24.90.'\n",
    "\n",
    "    if bmi < 18.5:\n",
    "        classification = 'SEVERELY UNDERWEIGHT'\n",
    "    elif 18.5 <= bmi <= 24.9:\n",
    "        classification = 'NORMAL'\n",
    "    elif 25 <= bmi <= 29.9:\n",
    "        classification = 'OVERWEIGHT'\n",
    "    elif 30 <= bmi <= 34.9:\n",
    "        classification = 'SEVERELY OVERWEIGHT'\n",
    "    elif 35 <= bmi <= 39.9:\n",
    "        classification = 'OBESE'\n",
    "    else:\n",
    "        classification = 'SEVERELY OBESE'\n",
    "\n",
    "    print(f'\\nYour BODY MASS INDEX is {bmi:0.2f} and classified as {classification}.')\n",
    "    \n",
    "    if 18.5 <= bmi <= 24.9:\n",
    "        print(normal_bmi_range)\n",
    "\n",
    "def main():\n",
    "    os.system('cls' if os.name == 'nt' else 'clear')\n",
    "    app_name = 'BMI Calculator'\n",
    "    print(f'{\"-\" * 40}\\n{\" \" * 8}{app_name}{\" \" * 8}\\n{\"-\" * 40}')\n",
    "    calculate_bmi()\n",
    "\n",
    "    while True:\n",
    "        response = input('\\nDo you want to continue? (Y/N) ')\n",
    "        if response.lower() == 'y':\n",
    "            main()\n",
    "        elif response.lower() == 'n':\n",
    "            print('\\nThank you and have a great day.\\n')\n",
    "            sys.exit()\n",
    "        else:\n",
    "            print('\\nError: Please select Y or N.\\n')\n",
    "\n",
    "if __name__ == '__main__':\n",
    "    main()\n"
   ]
  }
 ],
 "metadata": {
  "kernelspec": {
   "display_name": "myenv",
   "language": "python",
   "name": "python3"
  },
  "language_info": {
   "codemirror_mode": {
    "name": "ipython",
    "version": 3
   },
   "file_extension": ".py",
   "mimetype": "text/x-python",
   "name": "python",
   "nbconvert_exporter": "python",
   "pygments_lexer": "ipython3",
   "version": "3.11.7"
  }
 },
 "nbformat": 4,
 "nbformat_minor": 2
}
