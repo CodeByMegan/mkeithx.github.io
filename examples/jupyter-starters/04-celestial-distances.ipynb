{
 "cells": [
  {
   "cell_type": "markdown",
   "metadata": {},
   "source": [
    "# Celestial Distances\n",
    "\n",
    "Short examples measuring approximate distances of **celestial bodies** in light minutes. \n",
    "\n",
    "The speed of light in vacuum, commonly denoted $ c $, is a universal physical constant that is exactly equal to 299,792,458 metres per second (approximately 300,000 kilometres per second; 186,000 miles per second; 671 million miles per hour)."
   ]
  },
  {
   "cell_type": "markdown",
   "metadata": {},
   "source": [
    "## Example 01\n",
    "\n",
    "Measuring approximate distances from **Earth**."
   ]
  },
  {
   "cell_type": "code",
   "execution_count": 2,
   "metadata": {},
   "outputs": [
    {
     "name": "stdout",
     "output_type": "stream",
     "text": [
      "Approximate distance from Earth:\n",
      "\n",
      "Sun: 8.34 light minutes\n",
      "Mercury: 5.1 light minutes\n",
      "Venus: 2.3 light minutes\n",
      "Moon: 0.02 light minutes\n",
      "Mars: 4.36 light minutes\n",
      "Asteroid Belt: 26.61 light minutes\n",
      "Jupiter: 34.95 light minutes\n",
      "Saturn: 70.88 light minutes\n",
      "Uranus: 151.44 light minutes\n",
      "Neptune: 241.91 light minutes\n",
      "Kuiper Belt: 407.5 light minutes\n",
      "Oort Cloud: 415837.12 light minutes / 47.47 light years\n"
     ]
    }
   ],
   "source": [
    "LIGHT_SPEED = 299792.458  # Speed of light in km/s\n",
    "\n",
    "distances_from_earth = [\n",
    "    {'name': 'Sun', 'distance': 150_000_000},\n",
    "    {'name': 'Mercury', 'distance': 91_691_000},\n",
    "    {'name': 'Venus', 'distance': 41_400_000},\n",
    "    {'name': 'Moon', 'distance': 384_402},\n",
    "    {'name': 'Mars', 'distance': 78_340_000},\n",
    "    {'name': 'Asteroid Belt', 'distance': 478_700_000},\n",
    "    {'name': 'Jupiter', 'distance': 628_730_000},\n",
    "    {'name': 'Saturn', 'distance': 1_275_000_000},\n",
    "    {'name': 'Uranus', 'distance': 2_723_950_000},\n",
    "    {'name': 'Neptune', 'distance': 4_351_400_000},\n",
    "    {'name': 'Kuiper Belt', 'distance': 7_330_000_000},\n",
    "    {'name': 'Oort Cloud', 'distance': 7_479_890_000_000},\n",
    "]\n",
    "\n",
    "def to_light_minutes(distance):\n",
    "    return round(distance / (LIGHT_SPEED * 60), 2)\n",
    "\n",
    "def to_light_years(distance):\n",
    "    return round(distance / (LIGHT_SPEED * 60 * 24 * 365), 2) if distance > LIGHT_SPEED * 60 * 24 * 365 else None\n",
    "\n",
    "def main():\n",
    "    print(\"Approximate distance from Earth:\")\n",
    "    print()\n",
    "\n",
    "    for planet in distances_from_earth:\n",
    "        name = planet['name']\n",
    "        distance = planet['distance']\n",
    "        light_minutes = to_light_minutes(distance)\n",
    "        light_years = to_light_years(distance)\n",
    "        if light_years is not None:\n",
    "            print(f\"{name}: {light_minutes} light minutes / {light_years} light years\")\n",
    "        else:\n",
    "            print(f\"{name}: {light_minutes} light minutes\")\n",
    "\n",
    "if __name__ == \"__main__\":\n",
    "    main()\n"
   ]
  },
  {
   "cell_type": "markdown",
   "metadata": {},
   "source": [
    "## Example 02\n",
    "\n",
    "Measuring approximate distances from **the Sun**."
   ]
  },
  {
   "cell_type": "code",
   "execution_count": 3,
   "metadata": {},
   "outputs": [
    {
     "name": "stdout",
     "output_type": "stream",
     "text": [
      "Approximate distance from the Sun:\n",
      "\n",
      "Mercury: 3.22 light minutes\n",
      "Venus: 6.02 light minutes\n",
      "Earth: 8.32 light minutes\n",
      "Mars: 12.67 light minutes\n",
      "Jupiter: 43.28 light minutes\n",
      "Saturn: 79.33 light minutes\n",
      "Uranus: 159.61 light minutes\n",
      "Neptune: 250.01 light minutes\n"
     ]
    }
   ],
   "source": [
    "LIGHT_SPEED = 299792  # Speed of light in km/s\n",
    "\n",
    "distances_from_sun = [\n",
    "    {'name': 'Mercury', 'distance': 57_910_000},\n",
    "    {'name': 'Venus', 'distance': 108_200_000},\n",
    "    {'name': 'Earth', 'distance': 149_600_000},\n",
    "    {'name': 'Mars', 'distance': 227_900_000},\n",
    "    {'name': 'Jupiter', 'distance': 778_500_000},\n",
    "    {'name': 'Saturn', 'distance': 1_427_000_000},\n",
    "    {'name': 'Uranus', 'distance': 2_871_000_000},\n",
    "    {'name': 'Neptune', 'distance': 4_497_000_000},\n",
    "]\n",
    "\n",
    "def to_minutes(distance):\n",
    "    return round(float(distance) / (LIGHT_SPEED * 60), 2)\n",
    "\n",
    "def to_years(distance):\n",
    "    return round(float(distance) / (LIGHT_SPEED * 60 * 24 * 365), 2) if distance > LIGHT_SPEED * 60 * 24 * 365 else None\n",
    "\n",
    "def main():\n",
    "    print(\"Approximate distance from the Sun:\")\n",
    "    print()\n",
    "\n",
    "    for planet in distances_from_sun:\n",
    "        name = planet['name']\n",
    "        distance = planet['distance']\n",
    "        light_minutes = to_minutes(distance)\n",
    "        light_years = to_years(distance)\n",
    "        if light_years is not None:\n",
    "            print(f\"{name}: {light_minutes} light minutes / {light_years} light years\")\n",
    "        else:\n",
    "            print(f\"{name}: {light_minutes} light minutes\")\n",
    "\n",
    "if __name__ == \"__main__\":\n",
    "    main()\n"
   ]
  },
  {
   "cell_type": "markdown",
   "metadata": {},
   "source": [
    "## Conclusion\n",
    "\n",
    "Now that we've learned how to code basic calculations, we've also discovered that we are actually **looking back in time**."
   ]
  }
 ],
 "metadata": {
  "kernelspec": {
   "display_name": "myenv",
   "language": "python",
   "name": "python3"
  },
  "language_info": {
   "codemirror_mode": {
    "name": "ipython",
    "version": 3
   },
   "file_extension": ".py",
   "mimetype": "text/x-python",
   "name": "python",
   "nbconvert_exporter": "python",
   "pygments_lexer": "ipython3",
   "version": "3.11.7"
  }
 },
 "nbformat": 4,
 "nbformat_minor": 2
}
