{
 "cells": [
  {
   "cell_type": "code",
   "execution_count": 2,
   "metadata": {},
   "outputs": [],
   "source": [
    "import os\n",
    "from openai import OpenAI\n",
    "from dotenv import load_dotenv\n",
    "\n",
    "load_dotenv()\n",
    "\n",
    "\n",
    "client = OpenAI(\n",
    "    api_key=os.environ.get(\"OPENAI_API_KEY\"),\n",
    ")\n",
    "\n",
    "GPT_MODEL = \"gpt-3.5-turbo-0125\""
   ]
  },
  {
   "cell_type": "code",
   "execution_count": 4,
   "metadata": {},
   "outputs": [
    {
     "name": "stdout",
     "output_type": "stream",
     "text": [
      "In Python, class-based views are defined using classes, while function-based views are defined using functions. Class-based views provide more structure and reusability, while function-based views are simpler and more straightforward.\n"
     ]
    }
   ],
   "source": [
    "completion = client.chat.completions.create(\n",
    "    model = GPT_MODEL,\n",
    "    response_format={\"type\": \"text\"},\n",
    "    messages=[\n",
    "        {\"role\": \"system\", \"content\": \"You are a helpful assistant, skilled in explaining complex programming concepts in simple terms. Answer as concise as possible.\"},\n",
    "        {\"role\": \"user\", \"content\": \"Explain the difference of class and function based views in python.\"}\n",
    "    ]\n",
    ")\n",
    "\n",
    "print(completion.choices[0].message.content)"
   ]
  },
  {
   "cell_type": "code",
   "execution_count": 5,
   "metadata": {},
   "outputs": [
    {
     "name": "stdout",
     "output_type": "stream",
     "text": [
      "Quantum physics is the study of matter and light at a very small scale. It deals with how particles like electrons and photons behave differently from what we are used to in the everyday world. The key ideas include quantized energy levels, wave-particle duality, and the uncertainty principle, which all play a crucial role in describing the behavior of objects on a tiny scale."
     ]
    }
   ],
   "source": [
    "stream = client.chat.completions.create(\n",
    "    model= GPT_MODEL,\n",
    "    messages=[\n",
    "        {\"role\": \"system\", \"content\": \"Your are a helpful assistant, follow instructions carefully. Answer as concise as possible.\"},\n",
    "        {\"role\": \"user\", \"content\": \"Explain quantum physics in simple terms.\"}\n",
    "    ],\n",
    "    temperature=1,\n",
    "    stream=True,\n",
    ")\n",
    "for chunk in stream:\n",
    "    if chunk.choices[0].delta.content is not None:\n",
    "        print(chunk.choices[0].delta.content, end=\"\")"
   ]
  },
  {
   "cell_type": "code",
   "execution_count": 6,
   "metadata": {},
   "outputs": [
    {
     "name": "stdout",
     "output_type": "stream",
     "text": [
      "1, 2, 3, 4, 5, 6, 7, 8, 9, 10, 11, 12, 13, 14, 15, 16, 17, 18, 19, 20, 21, 22, 23, 24, 25."
     ]
    }
   ],
   "source": [
    "stream = client.chat.completions.create(\n",
    "    model= GPT_MODEL,\n",
    "    messages=[\n",
    "        {\"role\": \"system\", \"content\": \"Your are a helpful assistant, follow instructions carefully. Answer as concise as possible.\"},\n",
    "        {\"role\": \"user\", \"content\": \"Count 1 - 25.\"}\n",
    "    ],\n",
    "    temperature=1,\n",
    "    stream=True,\n",
    ")\n",
    "for chunk in stream:\n",
    "    if chunk.choices[0].delta.content is not None:\n",
    "        print(chunk.choices[0].delta.content, end=\"\")"
   ]
  },
  {
   "cell_type": "code",
   "execution_count": 7,
   "metadata": {},
   "outputs": [
    {
     "name": "stdout",
     "output_type": "stream",
     "text": [
      "Awfully bold Cinderella defies evil fate, gaining happiness, ignoring jealousy, kept love, marries noble prince, qualifies royalty, seated triumphantly, united vigorously, wins xenodochial, youthful zest.None"
     ]
    }
   ],
   "source": [
    "stream = client.chat.completions.create(\n",
    "    model=GPT_MODEL,\n",
    "    messages=[\n",
    "        {\"role\": \"system\", \"content\": \"Your are a helpful assistant, follow instructions carefully. Answer as concise as possible.\"},\n",
    "        {\"role\": \"user\", \"content\": \"Explain the plot of Cinderella in a sentence where each word has to begin with the next letter in the alphabet from A to Z, without repeating any letters.\"}\n",
    "    ],\n",
    "    stream=True,\n",
    ")\n",
    "for chunk in stream:\n",
    "    print(chunk.choices[0].delta.content, end=\"\")"
   ]
  }
 ],
 "metadata": {
  "kernelspec": {
   "display_name": "myenv",
   "language": "python",
   "name": "python3"
  },
  "language_info": {
   "codemirror_mode": {
    "name": "ipython",
    "version": 3
   },
   "file_extension": ".py",
   "mimetype": "text/x-python",
   "name": "python",
   "nbconvert_exporter": "python",
   "pygments_lexer": "ipython3",
   "version": "3.11.7"
  }
 },
 "nbformat": 4,
 "nbformat_minor": 2
}
