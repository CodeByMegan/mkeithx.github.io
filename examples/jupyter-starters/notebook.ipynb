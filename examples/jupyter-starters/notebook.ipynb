{
 "cells": [
  {
   "cell_type": "markdown",
   "metadata": {},
   "source": [
    "# **MKX | Jupyter**\n",
    "\n",
    "Codes samples from [MKX SpaceHub™](https://bit.ly/mkeithx) for testing and reference purposes.\n",
    "\n",
    "## What is Jupyter Notebook?\n",
    "\n",
    "Jupyter Notebook is an open-source web application that allows you to create and share documents that contain live code, equations, visualizations, and narrative text. It supports various programming languages, but it's most commonly used with Python due to its extensive libraries for data manipulation and analysis. [Learn more](https://jupyter.org/).\n",
    "\n",
    "\n",
    "### Why Use Jupyter Notebooks?\n",
    "\n",
    "- ✅ **Interactive Computing**: With Jupyter Notebooks, you can write and execute code in small chunks called cells. This interactive computing environment allows you to experiment with code and see the results immediately.\n",
    "\n",
    "- ✅ **Data Exploration**: Jupyter Notebooks are great for exploring data. You can import datasets, visualize them, perform analysis, and share your findings—all within the same document.\n",
    "\n",
    "- ✅ **Collaboration**: Whether you're working on a project with a team or sharing your work with others, Jupyter Notebooks make collaboration easy. You can share your notebooks via email, GitHub, or the Jupyter Notebook Viewer.\n",
    "\n",
    "- ✅ **Education**: Jupyter Notebooks are widely used in education for teaching programming, data science, and other subjects. They provide an interactive and engaging way for students to learn and experiment with code.\n",
    "\n",
    "\n",
    "### Thank you\n",
    "\n",
    "Support me with a ⭐ on [GitHub](https://github.com/mkeithX/mkeithx.github.io) 🙏\n",
    "\n",
    "---\n"
   ]
  },
  {
   "cell_type": "markdown",
   "metadata": {},
   "source": [
    "# Samples"
   ]
  },
  {
   "cell_type": "code",
   "execution_count": 1,
   "metadata": {},
   "outputs": [
    {
     "name": "stdout",
     "output_type": "stream",
     "text": [
      "MKX | Jupyter\n"
     ]
    }
   ],
   "source": [
    "msg = (\"MKX | Jupyter\")\n",
    "print(msg)"
   ]
  },
  {
   "cell_type": "code",
   "execution_count": 2,
   "metadata": {},
   "outputs": [
    {
     "name": "stdout",
     "output_type": "stream",
     "text": [
      "The Zen of Python, by Tim Peters\n",
      "\n",
      "Beautiful is better than ugly.\n",
      "Explicit is better than implicit.\n",
      "Simple is better than complex.\n",
      "Complex is better than complicated.\n",
      "Flat is better than nested.\n",
      "Sparse is better than dense.\n",
      "Readability counts.\n",
      "Special cases aren't special enough to break the rules.\n",
      "Although practicality beats purity.\n",
      "Errors should never pass silently.\n",
      "Unless explicitly silenced.\n",
      "In the face of ambiguity, refuse the temptation to guess.\n",
      "There should be one-- and preferably only one --obvious way to do it.\n",
      "Although that way may not be obvious at first unless you're Dutch.\n",
      "Now is better than never.\n",
      "Although never is often better than *right* now.\n",
      "If the implementation is hard to explain, it's a bad idea.\n",
      "If the implementation is easy to explain, it may be a good idea.\n",
      "Namespaces are one honking great idea -- let's do more of those!\n"
     ]
    }
   ],
   "source": [
    "import this"
   ]
  }
 ],
 "metadata": {
  "kernelspec": {
   "display_name": "myenv",
   "language": "python",
   "name": "python3"
  },
  "language_info": {
   "codemirror_mode": {
    "name": "ipython",
    "version": 3
   },
   "file_extension": ".py",
   "mimetype": "text/x-python",
   "name": "python",
   "nbconvert_exporter": "python",
   "pygments_lexer": "ipython3",
   "version": "3.11.9"
  }
 },
 "nbformat": 4,
 "nbformat_minor": 2
}
